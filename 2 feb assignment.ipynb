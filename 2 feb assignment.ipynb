{
 "cells": [
  {
   "cell_type": "markdown",
   "id": "81553ddf-9b1b-4872-8ce2-4ee70d8713d9",
   "metadata": {},
   "source": [
    "# explain with examples when to use a for loop and a while loop."
   ]
  },
  {
   "cell_type": "code",
   "execution_count": null,
   "id": "875b3c92-3c96-4a0b-80ce-d78b19a7b57a",
   "metadata": {},
   "outputs": [],
   "source": [
    "a for loop is used to iterate over an iterable.\n"
   ]
  },
  {
   "cell_type": "code",
   "execution_count": 1,
   "id": "b7b54516-de84-4b67-803f-a8ceb34ece59",
   "metadata": {},
   "outputs": [
    {
     "name": "stdout",
     "output_type": "stream",
     "text": [
      "Ann\n",
      "hui\n",
      "tanjiro\n"
     ]
    }
   ],
   "source": [
    "names = [\"Ann\", \"hui\", \"tanjiro\"]\n",
    "for name in names:\n",
    "    print(name)"
   ]
  },
  {
   "cell_type": "code",
   "execution_count": null,
   "id": "0b09dfea-e9cb-480f-8b8c-2fef159d8629",
   "metadata": {},
   "outputs": [],
   "source": [
    "a while loop to repeat a block of statements until a given condition is satisfied.\n",
    "When the condition becomes false the looping terminates."
   ]
  },
  {
   "cell_type": "code",
   "execution_count": 2,
   "id": "3a6bd2db-ecf1-4c5a-a162-1eeeea0b1690",
   "metadata": {},
   "outputs": [
    {
     "name": "stdout",
     "output_type": "stream",
     "text": [
      "0\n",
      "1\n",
      "2\n",
      "3\n",
      "4\n",
      "5\n"
     ]
    }
   ],
   "source": [
    "i = 0\n",
    "while(i <= 5):\n",
    "    print(i)\n",
    "    i += 1"
   ]
  },
  {
   "cell_type": "markdown",
   "id": "1a82bc20-1277-4fd8-8c1a-86fda29ebdab",
   "metadata": {},
   "source": [
    "# create a python code to compute the electricity bill for a household."
   ]
  },
  {
   "cell_type": "code",
   "execution_count": null,
   "id": "ff67b8e6-15af-49ca-a32c-09a807615142",
   "metadata": {},
   "outputs": [],
   "source": [
    "x=int(input())\n",
    "\n",
    "if(x>300):\n",
    "    sum=(x-300)*20+100*10+100*6+100*(4.5)\n",
    "elif(x>200 and x<=300):\n",
    "    sum=(x-200)*10+100*6+100*(4.5)\n",
    "elif(x>100 and x<=200):\n",
    "    sum=(x-100)*6+100*(4.5)\n",
    "elif(x>0 and x<=100):\n",
    "    sum=(100-x)*(4.5)\n",
    "    \n",
    "print(int(sum))"
   ]
  },
  {
   "cell_type": "markdown",
   "id": "b848e48c-f67b-46b6-88b3-3a7d81416620",
   "metadata": {},
   "source": [
    "# write a program to filter count vowels in the string\n",
    "str = \"i want to become a data scientist\""
   ]
  },
  {
   "cell_type": "code",
   "execution_count": null,
   "id": "ecb02f26-b9da-418d-abc8-ecf817ef82ac",
   "metadata": {},
   "outputs": [],
   "source": [
    "s1 = \"i want to become a data scientist\"\n",
    "s3 = s1.lower()\n",
    "print(s1)\n",
    "count = 0\n",
    "l5 = [\"a\",\"e\",\"i\",\"o\",\"u\"]\n",
    "for s2 in s1:\n",
    "    if s2 in l5:\n",
    "        count = count+1\n",
    "print(\"number vowels in given sentence is \",count)"
   ]
  },
  {
   "cell_type": "markdown",
   "id": "0ac4cd1b-7a85-4e9a-968d-a16df21c1822",
   "metadata": {},
   "source": [
    "# write a code to print the sum and product of the first 10 natural numbers using for and while loop."
   ]
  },
  {
   "cell_type": "code",
   "execution_count": null,
   "id": "a1822019-7bcd-44ea-b39d-5599ffb9e8e0",
   "metadata": {},
   "outputs": [],
   "source": [
    "num = 10\n",
    "sum = 0\n",
    "for i in range(num+1):\n",
    "    sum+=i\n",
    "print(sum)\n"
   ]
  },
  {
   "cell_type": "code",
   "execution_count": null,
   "id": "71c7c44a-31c1-4962-967c-6b9f3a7fa29e",
   "metadata": {},
   "outputs": [],
   "source": [
    "\n",
    "i = 1\n",
    "\n",
    "while(i <= 10):\n",
    "    print(i)\n",
    "    i = i + 1"
   ]
  },
  {
   "cell_type": "code",
   "execution_count": null,
   "id": "12628d9c-26dd-4bb5-8025-d6cafe54edd6",
   "metadata": {},
   "outputs": [],
   "source": [
    "number = int(input(\"enter the number\"))\n",
    "product = 1\n",
    " for i in range(1,number+1):\n",
    "        product =product*i\n",
    "        print(\"the product is :\",product)"
   ]
  },
  {
   "cell_type": "markdown",
   "id": "43c44f96-ad5b-4562-a827-67882fadaf2e",
   "metadata": {},
   "source": [
    "# create a list of number 1 to 100 using for and while loop to calculate the cube of each number . "
   ]
  },
  {
   "cell_type": "code",
   "execution_count": null,
   "id": "051d10d6-779e-4c5e-8707-45f831bada1d",
   "metadata": {},
   "outputs": [],
   "source": [
    "numbers = []"
   ]
  },
  {
   "cell_type": "code",
   "execution_count": null,
   "id": "76d73555-1269-4ec4-bdf8-c3f662b70d73",
   "metadata": {},
   "outputs": [],
   "source": [
    "i =1\n",
    "while i <=100:\n",
    "    numbers.append(i)\n",
    "    i = i +  1\n",
    "print(numbers)"
   ]
  },
  {
   "cell_type": "code",
   "execution_count": null,
   "id": "db30c25c-726c-4de4-bc79-940992a33b6b",
   "metadata": {},
   "outputs": [],
   "source": [
    "rangeNo=int(input(\"enter upto which number you want to print cube\\t\"))\n",
    "\n",
    "i = 1;\n",
    "while i <= rangeNo:\n",
    "    cubeNo = 0\n",
    "    cubeNo = i * i * i\n",
    "    print(\"cube of %d is ===>   %f\"  %(i,cubeNo))\n",
    "    i=i+1"
   ]
  },
  {
   "cell_type": "code",
   "execution_count": null,
   "id": "18e9c946-3534-44b3-8ad3-9f4aebbe1d7d",
   "metadata": {},
   "outputs": [],
   "source": []
  }
 ],
 "metadata": {
  "kernelspec": {
   "display_name": "Python 3 (ipykernel)",
   "language": "python",
   "name": "python3"
  },
  "language_info": {
   "codemirror_mode": {
    "name": "ipython",
    "version": 3
   },
   "file_extension": ".py",
   "mimetype": "text/x-python",
   "name": "python",
   "nbconvert_exporter": "python",
   "pygments_lexer": "ipython3",
   "version": "3.10.8"
  }
 },
 "nbformat": 4,
 "nbformat_minor": 5
}
